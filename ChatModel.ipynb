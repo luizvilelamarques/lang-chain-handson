{
 "cells": [
  {
   "cell_type": "markdown",
   "id": "d282138f",
   "metadata": {},
   "source": [
    "\n",
    "1. Explorando LLMs e ChatModels com Groq"
   ]
  },
  {
   "cell_type": "code",
   "execution_count": 3,
   "id": "52b6212c",
   "metadata": {},
   "outputs": [
    {
     "name": "stdout",
     "output_type": "stream",
     "text": [
      "--- Resposta do ChatModel com Groq ---\n",
      "Uma pergunta fácil!\n",
      "\n",
      "A capital da França é Paris!\n"
     ]
    }
   ],
   "source": [
    "from langchain_groq import ChatGroq\n",
    "from langchain.schema import HumanMessage, SystemMessage\n",
    "from langchain.prompts import ChatPromptTemplate\n",
    "\n",
    "# Defina sua chave de API do Groq\n",
    "import os\n",
    "os.environ[\"GROQ_API_KEY\"] = \"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\"\n",
    "\n",
    "# 1. Usando um ChatModel (Groq)\n",
    "# O Groq atualmente oferece principalmente ChatModels.\n",
    "chat = ChatGroq(model_name=\"llama3-8b-8192\", temperature=0)\n",
    "\n",
    "mensagens = [\n",
    "    SystemMessage(content=\"Você é um assistente prestativo e educado.\"),\n",
    "    HumanMessage(content=\"Qual a capital da França?\")\n",
    "]\n",
    "chat_resposta = chat.invoke(mensagens)\n",
    "print(\"--- Resposta do ChatModel com Groq ---\")\n",
    "print(chat_resposta.content)"
   ]
  }
 ],
 "metadata": {
  "kernelspec": {
   "display_name": "groq-chain",
   "language": "python",
   "name": "python3"
  },
  "language_info": {
   "codemirror_mode": {
    "name": "ipython",
    "version": 3
   },
   "file_extension": ".py",
   "mimetype": "text/x-python",
   "name": "python",
   "nbconvert_exporter": "python",
   "pygments_lexer": "ipython3",
   "version": "3.12.3"
  }
 },
 "nbformat": 4,
 "nbformat_minor": 5
}
