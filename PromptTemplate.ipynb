{
 "cells": [
  {
   "cell_type": "markdown",
   "id": "ceda9ca5",
   "metadata": {},
   "source": [
    "PromptTemplate com Groq"
   ]
  },
  {
   "cell_type": "code",
   "execution_count": null,
   "id": "f889ff39",
   "metadata": {},
   "outputs": [],
   "source": [
    "from langchain_groq import ChatGroq\n",
    "from langchain.prompts import PromptTemplate\n",
    "\n",
    "# Defina sua chave de API do Groq\n",
    "import os\n",
    "os.environ[\"GROQ_API_KEY\"] = \"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\"\n",
    "\n",
    "# 1. Inicializa o ChatModel da Groq\n",
    "chat = ChatGroq(model_name=\"llama3-8b-8192\", temperature=0)\n",
    "\n",
    "# 2. Define um PromptTemplate\n",
    "prompt_template = PromptTemplate.from_template(\n",
    "    \"Qual a melhor receita para um bolo de {sabor}?\"\n",
    ")\n",
    "\n",
    "# 3. Formata o prompt com uma variável\n",
    "prompt_com_sabor = prompt_template.format(sabor=\"chocolate\")\n",
    "print(\"--- Prompt Gerado ---\")\n",
    "print(prompt_com_sabor)\n",
    "\n",
    "# 4. Executa o ChatModel com o prompt\n",
    "resposta = chat.invoke(prompt_com_sabor)\n",
    "print(\"\\n--- Resposta do ChatModel ---\")\n",
    "print(resposta.content)"
   ]
  }
 ],
 "metadata": {
  "kernelspec": {
   "display_name": "groq-chain",
   "language": "python",
   "name": "python3"
  },
  "language_info": {
   "name": "python",
   "version": "3.12.3"
  }
 },
 "nbformat": 4,
 "nbformat_minor": 5
}
