{
 "cells": [
  {
   "cell_type": "markdown",
   "id": "ceda9ca5",
   "metadata": {},
   "source": [
    "PromptTemplate com Groq"
   ]
  },
  {
   "cell_type": "code",
   "execution_count": null,
   "id": "f889ff39",
   "metadata": {},
   "outputs": [
    {
     "name": "stdout",
     "output_type": "stream",
     "text": [
      "--- Prompt Gerado ---\n",
      "Qual a melhor receita para um bolo de chocolate?\n",
      "\n",
      "--- Resposta do ChatModel ---\n",
      "A melhor receita para um bolo de chocolate é sempre um tema de debate entre os amantes da culinária! No entanto, aqui está uma receita clássica e deliciosa que você pode tentar:\n",
      "\n",
      "**Receita de Bolo de Chocolate**\n",
      "\n",
      "Ingredientes:\n",
      "\n",
      "* 250g de farinha de trigo\n",
      "* 150g de açúcar\n",
      "* 3 ovos\n",
      "* 1/2 xícara de chocolate em pó (ou 100g de chocolate derretido)\n",
      "* 1/2 xícara de óleo vegetal\n",
      "* 2 colheres de sopa de café solúvel\n",
      "* 1 colher de sopa de vinagre de maçã\n",
      "* 1/2 colher de sopa de bicarbonato de sódio\n",
      "* 1/4 colher de sopa de sal\n",
      "* 1 xícara de água\n",
      "* 1/2 xícara de creme de leite (opcional)\n",
      "\n",
      "Modo de preparo:\n",
      "\n",
      "1. Preaqueça o forno a 180°C (350°F).\n",
      "2. Misture a farinha, açúcar, bicarbonato de sódio e sal em uma tigela.\n",
      "3. Em uma outra tigela, misture os ovos, chocolate em pó (ou chocolate derretido), óleo vegetal, café solúvel e vinagre de maçã.\n",
      "4. Adicione a mistura de ovos à mistura de farinha e misture até que esteja homogênea.\n",
      "5. Adicione a água e misture até que a massa esteja suave e homogênea.\n",
      "6. Coloque a massa em uma forma de bolo untada e enfarinhada.\n",
      "7. Asse o bolo por cerca de 45-50 minutos, ou até que esteja firme e umedecido.\n",
      "8. Retire o bolo do forno e deixe esfriar por 10 minutos.\n",
      "9. Desenforme o bolo e coloque-o em uma grade para esfriar completamente.\n",
      "10. Se desejar, adicione creme de leite e misture bem.\n",
      "\n",
      "**Dicas e Variações**\n",
      "\n",
      "* Para um bolo mais denso, use 200g de chocolate em pó.\n",
      "* Para um bolo mais leve, use 100g de chocolate em pó.\n",
      "* Adicione frutas secas, como amendoins ou cranberries, para dar um toque de sabor e textura.\n",
      "* Use chocolate branco ou chocolate amarelo para dar um toque de cor e sabor diferente.\n",
      "* Adicione um pouco de café solúvel extra para dar um toque de sabor mais intenso.\n",
      "\n",
      "Espero que você goste dessa receita! Lembre-se de que a chave para um bolo de chocolate delicioso é usar ingredientes de qualidade e não sobrepassar a temperatura do forno.\n"
     ]
    }
   ],
   "source": [
    "from langchain_groq import ChatGroq\n",
    "from langchain.prompts import PromptTemplate\n",
    "\n",
    "# Defina sua chave de API do Groq\n",
    "import os\n",
    "os.environ[\"GROQ_API_KEY\"] = \"sua chave de API aqui\"\n",
    "\n",
    "# 1. Inicializa o ChatModel da Groq\n",
    "chat = ChatGroq(model_name=\"llama3-8b-8192\", temperature=0)\n",
    "\n",
    "# 2. Define um PromptTemplate\n",
    "prompt_template = PromptTemplate.from_template(\n",
    "    \"Qual a melhor receita para um bolo de {sabor}?\"\n",
    ")\n",
    "\n",
    "# 3. Formata o prompt com uma variável\n",
    "prompt_com_sabor = prompt_template.format(sabor=\"chocolate\")\n",
    "print(\"--- Prompt Gerado ---\")\n",
    "print(prompt_com_sabor)\n",
    "\n",
    "# 4. Executa o ChatModel com o prompt\n",
    "resposta = chat.invoke(prompt_com_sabor)\n",
    "print(\"\\n--- Resposta do ChatModel ---\")\n",
    "print(resposta.content)"
   ]
  }
 ],
 "metadata": {
  "kernelspec": {
   "display_name": "groq-chain",
   "language": "python",
   "name": "python3"
  },
  "language_info": {
   "codemirror_mode": {
    "name": "ipython",
    "version": 3
   },
   "file_extension": ".py",
   "mimetype": "text/x-python",
   "name": "python",
   "nbconvert_exporter": "python",
   "pygments_lexer": "ipython3",
   "version": "3.12.3"
  }
 },
 "nbformat": 4,
 "nbformat_minor": 5
}
