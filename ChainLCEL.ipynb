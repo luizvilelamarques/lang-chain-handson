{
 "cells": [
  {
   "cell_type": "markdown",
   "id": "b32316a7",
   "metadata": {},
   "source": [
    "Chain com LCEL e Groq"
   ]
  },
  {
   "cell_type": "code",
   "execution_count": null,
   "id": "667245ac",
   "metadata": {},
   "outputs": [
    {
     "name": "stdout",
     "output_type": "stream",
     "text": [
      "--- Resposta da Chain ---\n",
      "A capital do Brasil é Brasília!\n"
     ]
    }
   ],
   "source": [
    "from langchain_groq import ChatGroq\n",
    "from langchain.prompts import ChatPromptTemplate\n",
    "\n",
    "# Defina sua chave de API do Groq\n",
    "import os\n",
    "os.environ[\"GROQ_API_KEY\"] = \"sua chave de API aqui\"\n",
    "\n",
    "# 1. Crie um ChatPromptTemplate\n",
    "prompt = ChatPromptTemplate.from_template(\"Qual a capital de {pais}?\")\n",
    "\n",
    "# 2. Crie um ChatModel do Groq\n",
    "model = ChatGroq(model_name=\"llama3-8b-8192\")\n",
    "\n",
    "# 3. Combine os componentes usando a sintaxe LCEL\n",
    "chain = prompt | model\n",
    "\n",
    "# 4. Invoque a chain com a entrada desejada\n",
    "resposta = chain.invoke({\"pais\": \"Brasil\"})\n",
    "print(\"--- Resposta da Chain ---\")\n",
    "print(resposta.content)"
   ]
  }
 ],
 "metadata": {
  "kernelspec": {
   "display_name": "groq-chain",
   "language": "python",
   "name": "python3"
  },
  "language_info": {
   "codemirror_mode": {
    "name": "ipython",
    "version": 3
   },
   "file_extension": ".py",
   "mimetype": "text/x-python",
   "name": "python",
   "nbconvert_exporter": "python",
   "pygments_lexer": "ipython3",
   "version": "3.12.3"
  }
 },
 "nbformat": 4,
 "nbformat_minor": 5
}
