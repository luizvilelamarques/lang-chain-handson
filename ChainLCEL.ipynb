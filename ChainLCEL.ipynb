{
 "cells": [
  {
   "cell_type": "markdown",
   "id": "b32316a7",
   "metadata": {},
   "source": [
    "Chain com LCEL e Groq"
   ]
  },
  {
   "cell_type": "code",
   "execution_count": null,
   "id": "667245ac",
   "metadata": {
    "vscode": {
     "languageId": "plaintext"
    }
   },
   "outputs": [],
   "source": [
    "from langchain_groq import ChatGroq\n",
    "from langchain.prompts import ChatPromptTemplate\n",
    "\n",
    "# Defina sua chave de API do Groq\n",
    "import os\n",
    "os.environ[\"GROQ_API_KEY\"] = \"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\"\n",
    "\n",
    "# 1. Crie um ChatPromptTemplate\n",
    "prompt = ChatPromptTemplate.from_template(\"Qual a capital de {pais}?\")\n",
    "\n",
    "# 2. Crie um ChatModel do Groq\n",
    "model = ChatGroq(model_name=\"llama3-8b-8192\")\n",
    "\n",
    "# 3. Combine os componentes usando a sintaxe LCEL\n",
    "chain = prompt | model\n",
    "\n",
    "# 4. Invoque a chain com a entrada desejada\n",
    "resposta = chain.invoke({\"pais\": \"Brasil\"})\n",
    "print(\"--- Resposta da Chain ---\")\n",
    "print(resposta.content)"
   ]
  }
 ],
 "metadata": {
  "language_info": {
   "name": "python"
  }
 },
 "nbformat": 4,
 "nbformat_minor": 5
}
