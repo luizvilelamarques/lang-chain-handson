{
 "cells": [
  {
   "cell_type": "markdown",
   "id": "3a3d11f8",
   "metadata": {},
   "source": [
    "Memória com Groq"
   ]
  },
  {
   "cell_type": "code",
   "execution_count": null,
   "id": "e8d3fac1",
   "metadata": {},
   "outputs": [
    {
     "name": "stdout",
     "output_type": "stream",
     "text": [
      "--- Chat Simulado com Groq ---\n",
      "\n",
      "\n",
      "\u001b[1m> Entering new LLMChain chain...\u001b[0m\n",
      "Prompt after formatting:\n",
      "\u001b[32;1m\u001b[1;3mSystem: Você é um assistente que ajuda o usuário a encontrar informações. Responda em português.\n",
      "Human: Qual a capital da França?\u001b[0m\n",
      "\n",
      "\u001b[1m> Finished chain.\u001b[0m\n",
      "User: Qual a capital da França?\n",
      "Assistente: A capital da França é Paris!\n",
      "\n",
      "\n",
      "\n",
      "\n",
      "\u001b[1m> Entering new LLMChain chain...\u001b[0m\n",
      "Prompt after formatting:\n",
      "\u001b[32;1m\u001b[1;3mSystem: Você é um assistente que ajuda o usuário a encontrar informações. Responda em português.\n",
      "Human: E qual a capital da Alemanha?\u001b[0m\n",
      "\n",
      "\u001b[1m> Finished chain.\u001b[0m\n",
      "User: E qual a capital da Alemanha?\n",
      "Assistente: A capital da Alemanha é Berlim!\n"
     ]
    }
   ],
   "source": [
    "from langchain_groq import ChatGroq\n",
    "from langchain.prompts import ChatPromptTemplate\n",
    "from langchain.chains import LLMChain\n",
    "from langchain.memory import ConversationBufferMemory\n",
    "\n",
    "# Defina sua chave de API do Groq\n",
    "import os\n",
    "os.environ[\"GROQ_API_KEY\"] = \"sua chave de API aqui\"\n",
    "\n",
    "# Inicialize o ChatModel e a memória\n",
    "chat_model = ChatGroq(model_name=\"llama3-8b-8192\")\n",
    "memory = ConversationBufferMemory(memory_key=\"chat_history\")\n",
    "\n",
    "# Crie um prompt com um placeholder para o histórico de chat\n",
    "prompt = ChatPromptTemplate.from_messages([\n",
    "    (\"system\", \"Você é um assistente que ajuda o usuário a encontrar informações. Responda em português.\"),\n",
    "    (\"human\", \"{question}\"),\n",
    "])\n",
    "\n",
    "# Crie a chain combinando o modelo, o prompt e a memória\n",
    "chain = LLMChain(\n",
    "    llm=chat_model,\n",
    "    prompt=prompt,\n",
    "    memory=memory,\n",
    "    verbose=True # Adiciona verbose para ver o que a chain está fazendo\n",
    ")\n",
    "\n",
    "# Simule uma conversa\n",
    "print(\"--- Chat Simulado com Groq ---\")\n",
    "resposta1 = chain.invoke({\"question\": \"Qual a capital da França?\"})\n",
    "print(\"User: Qual a capital da França?\")\n",
    "print(f\"Assistente: {resposta1['text']}\")\n",
    "\n",
    "print(\"\\n\")\n",
    "\n",
    "# A próxima pergunta usa o contexto da conversa anterior\n",
    "resposta2 = chain.invoke({\"question\": \"E qual a capital da Alemanha?\"})\n",
    "print(\"User: E qual a capital da Alemanha?\")\n",
    "print(f\"Assistente: {resposta2['text']}\")"
   ]
  }
 ],
 "metadata": {
  "kernelspec": {
   "display_name": "groq-chain",
   "language": "python",
   "name": "python3"
  },
  "language_info": {
   "codemirror_mode": {
    "name": "ipython",
    "version": 3
   },
   "file_extension": ".py",
   "mimetype": "text/x-python",
   "name": "python",
   "nbconvert_exporter": "python",
   "pygments_lexer": "ipython3",
   "version": "3.12.3"
  }
 },
 "nbformat": 4,
 "nbformat_minor": 5
}
