{
 "cells": [
  {
   "cell_type": "markdown",
   "id": "3a3d11f8",
   "metadata": {},
   "source": [
    "Memória com Groq"
   ]
  },
  {
   "cell_type": "code",
   "execution_count": null,
   "id": "e8d3fac1",
   "metadata": {
    "vscode": {
     "languageId": "plaintext"
    }
   },
   "outputs": [],
   "source": [
    "from langchain_groq import ChatGroq\n",
    "from langchain.prompts import ChatPromptTemplate\n",
    "from langchain.chains import LLMChain\n",
    "from langchain.memory import ConversationBufferMemory\n",
    "\n",
    "# Defina sua chave de API do Groq\n",
    "import os\n",
    "os.environ[\"GROQ_API_KEY\"] = \"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\"\n",
    "\n",
    "# Inicialize o ChatModel e a memória\n",
    "chat_model = ChatGroq(model_name=\"llama3-8b-8192\")\n",
    "memory = ConversationBufferMemory(memory_key=\"chat_history\")\n",
    "\n",
    "# Crie um prompt com um placeholder para o histórico de chat\n",
    "prompt = ChatPromptTemplate.from_messages([\n",
    "    (\"system\", \"Você é um assistente que ajuda o usuário a encontrar informações. Responda em português.\"),\n",
    "    (\"human\", \"{question}\"),\n",
    "])\n",
    "\n",
    "# Crie a chain combinando o modelo, o prompt e a memória\n",
    "chain = LLMChain(\n",
    "    llm=chat_model,\n",
    "    prompt=prompt,\n",
    "    memory=memory,\n",
    "    verbose=True # Adiciona verbose para ver o que a chain está fazendo\n",
    ")\n",
    "\n",
    "# Simule uma conversa\n",
    "print(\"--- Chat Simulado com Groq ---\")\n",
    "resposta1 = chain.invoke({\"question\": \"Qual a capital da França?\"})\n",
    "print(\"User: Qual a capital da França?\")\n",
    "print(f\"Assistente: {resposta1['text']}\")\n",
    "\n",
    "print(\"\\n\")\n",
    "\n",
    "# A próxima pergunta usa o contexto da conversa anterior\n",
    "resposta2 = chain.invoke({\"question\": \"E qual a capital da Alemanha?\"})\n",
    "print(\"User: E qual a capital da Alemanha?\")\n",
    "print(f\"Assistente: {resposta2['text']}\")"
   ]
  }
 ],
 "metadata": {
  "language_info": {
   "name": "python"
  }
 },
 "nbformat": 4,
 "nbformat_minor": 5
}
