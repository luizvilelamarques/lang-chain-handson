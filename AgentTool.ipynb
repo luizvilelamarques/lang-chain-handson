{
 "cells": [
  {
   "cell_type": "markdown",
   "id": "bb61d00a",
   "metadata": {},
   "source": [
    "Criando um Agente com Ferramentas e Groq"
   ]
  },
  {
   "cell_type": "code",
   "execution_count": null,
   "id": "79f521fc",
   "metadata": {},
   "outputs": [
    {
     "name": "stdout",
     "output_type": "stream",
     "text": [
      "--- Agente em Ação com Groq ---\n",
      "\n",
      "\n",
      "\u001b[1m> Entering new AgentExecutor chain...\u001b[0m\n",
      "\u001b[32;1m\u001b[1;3m\n",
      "Invoking: `Pesquisar` with `último jogo do Real Madrid`\n",
      "\n",
      "\n",
      "\u001b[0m"
     ]
    },
    {
     "name": "stderr",
     "output_type": "stream",
     "text": [
      "c:\\Users\\lamarques\\Desktop\\groc\\Langchain-groq\\groq-chain\\Lib\\site-packages\\langchain_community\\utilities\\duckduckgo_search.py:63: RuntimeWarning: This package (`duckduckgo_search`) has been renamed to `ddgs`! Use `pip install ddgs` instead.\n",
      "  with DDGS() as ddgs:\n"
     ]
    },
    {
     "name": "stdout",
     "output_type": "stream",
     "text": [
      "\u001b[36;1m\u001b[1;3mJun 3, 2020 · I understood último means 'most recent' and final 'the very last'. Now in my language course, I read: El sábado es el último día de la semana. How should I understand that? Apr 29, 2020 · El último grito, el más audaz, viene, como siempre, lanzado de Norteamérica, donde las elegantes portan pequeños cachorros de leones y de tigres con la misma naturalidad que un … Sep 8, 2017 · Hemos investigado ya en otra pregunta que poner \"yo\" al final de una enumeración es solo cuestión de cortesía y no de lingüística: Por razones de cortesía, es costumbre colocarlo en … Jul 12, 2021 · El intento de mediación del pasado día 18, por parte de la Dirección General de Trabajo, no fructificó y se trata de un último intento de evitar la huelga fijada para el miércoles y el … Jul 15, 2020 · En la Nueva Gramática de la RAE, artículo 7.14 La derivación adverbial. Propiedades morfológicas de los adverbios en -mente (y páginas siguientes 1 y 2) leo: 7.14e A los argumentos …\u001b[0m\u001b[32;1m\u001b[1;3m\n",
      "Invoking: `Pesquisar` with `último jogo do Real Madrid`\n",
      "\n",
      "\n",
      "\u001b[0m"
     ]
    },
    {
     "name": "stderr",
     "output_type": "stream",
     "text": [
      "c:\\Users\\lamarques\\Desktop\\groc\\Langchain-groq\\groq-chain\\Lib\\site-packages\\langchain_community\\utilities\\duckduckgo_search.py:63: RuntimeWarning: This package (`duckduckgo_search`) has been renamed to `ddgs`! Use `pip install ddgs` instead.\n",
      "  with DDGS() as ddgs:\n"
     ]
    },
    {
     "name": "stdout",
     "output_type": "stream",
     "text": [
      "\u001b[36;1m\u001b[1;3mJul 9, 2025 · Fique por dentro de tudo o que acontece com Real Madrid: notícias, resultados ao vivo e estatísticas! Veja os placares e os resultados, saiba quais são os próximos jogos de Real Madrid e acompanhe a classificação. Jun 26, 2025 · Real Madrid e Salzburg entram em campo na noite desta quinta-feira (26) em duelo decisivo pelo Grupo H no Mundial de Clubes. O jogo vale vaga nas oitavas de final da … May 24, 2025 · Em duelo pela última rodada de LaLiga e que marcou a despedida de Carlo Ancelotti, Real Madrid vence a Real Sociedad por 2 a 0; Mbappé faz os gols e assume … May 14, 2025 · Com gol de Jacobo Ramón, o Real Madrid virou contra o Mallorca e obriga o Barcelona a ganhar nesta quinta-feira (15/5), para ser campeão Jul 9, 2025 · Saiba que horas é o jogo do Real Madrid e onde assistir online a partida contra o PSG na semifinal do Mundial de Clubes de 2025.\u001b[0m\u001b[32;1m\u001b[1;3mO último jogo do Real Madrid foi contra o PSG na semifinal do Mundial de Clubes de 2025, e o resultado foi desconhecido pois a resposta foi uma lista de notícias e resultados futuros.\u001b[0m\n",
      "\n",
      "\u001b[1m> Finished chain.\u001b[0m\n",
      "\n",
      "--- Resposta Final do Agente ---\n",
      "O último jogo do Real Madrid foi contra o PSG na semifinal do Mundial de Clubes de 2025, e o resultado foi desconhecido pois a resposta foi uma lista de notícias e resultados futuros.\n"
     ]
    }
   ],
   "source": [
    "from langchain_groq import ChatGroq\n",
    "from langchain_community.tools import DuckDuckGoSearchRun\n",
    "from langchain_core.tools import Tool\n",
    "from langchain.agents import AgentExecutor, create_tool_calling_agent\n",
    "from langchain_core.prompts import ChatPromptTemplate, MessagesPlaceholder\n",
    "\n",
    "# Defina sua chave de API do Groq\n",
    "import os\n",
    "os.environ[\"GROQ_API_KEY\"] = \"sua chave de API aqui\"\n",
    "\n",
    "# 1. Define as ferramentas que o agente pode usar\n",
    "ferramentas = [\n",
    "    Tool(\n",
    "        name=\"Pesquisar\",\n",
    "        func=DuckDuckGoSearchRun().run,\n",
    "        description=\"Útil para responder a perguntas sobre eventos atuais ou informações que não estão no conhecimento do modelo.\"\n",
    "    )\n",
    "]\n",
    "\n",
    "# 2. Inicializa o modelo de linguagem do Groq\n",
    "llm = ChatGroq(model_name=\"llama3-8b-8192\", temperature=0)\n",
    "\n",
    "# 3. Cria o prompt do agente\n",
    "prompt = ChatPromptTemplate.from_messages([\n",
    "    (\"system\", \"Você é um assistente que tem acesso a ferramentas. Responda em português.\"),\n",
    "    (\"placeholder\", \"{chat_history}\"),\n",
    "    (\"human\", \"{input}\"),\n",
    "    MessagesPlaceholder(variable_name=\"agent_scratchpad\")\n",
    "])\n",
    "\n",
    "# 4. Cria o agente a partir do prompt e das ferramentas\n",
    "agent = create_tool_calling_agent(llm, ferramentas, prompt)\n",
    "\n",
    "# 5. Cria o executor para rodar o agente\n",
    "agent_executor = AgentExecutor(agent=agent, tools=ferramentas, verbose=True)\n",
    "\n",
    "# 6. Invoca o agente com uma pergunta\n",
    "print(\"--- Agente em Ação com Groq ---\")\n",
    "resposta = agent_executor.invoke({\"input\": \"Qual o resultado do último jogo do Real Madrid?\"})\n",
    "print(\"\\n--- Resposta Final do Agente ---\")\n",
    "print(resposta[\"output\"])"
   ]
  }
 ],
 "metadata": {
  "kernelspec": {
   "display_name": "groq-chain",
   "language": "python",
   "name": "python3"
  },
  "language_info": {
   "codemirror_mode": {
    "name": "ipython",
    "version": 3
   },
   "file_extension": ".py",
   "mimetype": "text/x-python",
   "name": "python",
   "nbconvert_exporter": "python",
   "pygments_lexer": "ipython3",
   "version": "3.12.3"
  }
 },
 "nbformat": 4,
 "nbformat_minor": 5
}
