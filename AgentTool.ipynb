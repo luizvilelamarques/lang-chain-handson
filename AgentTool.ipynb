{
 "cells": [
  {
   "cell_type": "markdown",
   "id": "bb61d00a",
   "metadata": {},
   "source": [
    "Criando um Agente com Ferramentas e Groq"
   ]
  },
  {
   "cell_type": "code",
   "execution_count": null,
   "id": "79f521fc",
   "metadata": {
    "vscode": {
     "languageId": "plaintext"
    }
   },
   "outputs": [],
   "source": [
    "from langchain_groq import ChatGroq\n",
    "from langchain_community.tools import DuckDuckGoSearchRun\n",
    "from langchain_core.tools import Tool\n",
    "from langchain.agents import AgentExecutor, create_tool_calling_agent\n",
    "from langchain_core.prompts import ChatPromptTemplate, MessagesPlaceholder\n",
    "\n",
    "# Defina sua chave de API do Groq\n",
    "import os\n",
    "os.environ[\"GROQ_API_KEY\"] = \"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\"\n",
    "\n",
    "# 1. Define as ferramentas que o agente pode usar\n",
    "ferramentas = [\n",
    "    Tool(\n",
    "        name=\"Pesquisar\",\n",
    "        func=DuckDuckGoSearchRun().run,\n",
    "        description=\"Útil para responder a perguntas sobre eventos atuais ou informações que não estão no conhecimento do modelo.\"\n",
    "    )\n",
    "]\n",
    "\n",
    "# 2. Inicializa o modelo de linguagem do Groq\n",
    "llm = ChatGroq(model_name=\"llama3-8b-8192\", temperature=0)\n",
    "\n",
    "# 3. Cria o prompt do agente\n",
    "prompt = ChatPromptTemplate.from_messages([\n",
    "    (\"system\", \"Você é um assistente que tem acesso a ferramentas. Responda em português.\"),\n",
    "    (\"placeholder\", \"{chat_history}\"),\n",
    "    (\"human\", \"{input}\"),\n",
    "    MessagesPlaceholder(variable_name=\"agent_scratchpad\")\n",
    "])\n",
    "\n",
    "# 4. Cria o agente a partir do prompt e das ferramentas\n",
    "agent = create_tool_calling_agent(llm, ferramentas, prompt)\n",
    "\n",
    "# 5. Cria o executor para rodar o agente\n",
    "agent_executor = AgentExecutor(agent=agent, tools=ferramentas, verbose=True)\n",
    "\n",
    "# 6. Invoca o agente com uma pergunta\n",
    "print(\"--- Agente em Ação com Groq ---\")\n",
    "resposta = agent_executor.invoke({\"input\": \"Qual o resultado do último jogo do Real Madrid?\"})\n",
    "print(\"\\n--- Resposta Final do Agente ---\")\n",
    "print(resposta[\"output\"])"
   ]
  }
 ],
 "metadata": {
  "language_info": {
   "name": "python"
  }
 },
 "nbformat": 4,
 "nbformat_minor": 5
}
